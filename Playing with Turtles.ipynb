{
 "cells": [
  {
   "cell_type": "code",
   "execution_count": null,
   "metadata": {},
   "outputs": [],
   "source": [
    "import pickle as pk"
   ]
  },
  {
   "cell_type": "code",
   "execution_count": null,
   "metadata": {},
   "outputs": [],
   "source": [
    "with open('data/master_tri_dict.pk', 'rb') as f:\n",
    "    master_tri = pk.load(f)"
   ]
  },
  {
   "cell_type": "code",
   "execution_count": null,
   "metadata": {},
   "outputs": [],
   "source": [
    "master_tri"
   ]
  },
  {
   "cell_type": "code",
   "execution_count": null,
   "metadata": {},
   "outputs": [],
   "source": [
    "converted_ttls = \"\"\n",
    "converted_ttls+=\"@prefix triid: <http://pcatxcore.com/key/tri/>\\n\"\n",
    "converted_ttls+=\"@prefix fac_name: <http://pcatxcore.com/values/fac_name/>\\n\"\n",
    "converted_ttls+=\"@prefix address: <http://pcatxcore.com/values/address/>\\n\"\n",
    "converted_ttls+=\"@prefix sic: <http://pcatxcore.com/key/sic/>\\n\"\n",
    "converted_ttls+=\"@prefix naics: <http://pcatxcore.com/key/naics/>\\n\"\n",
    "converted_ttls+=\"@prefix relation: <http://pcatxcore.com/relation/>\\n\"\n",
    "converted_ttls+=\"@prefix chemical: <http://pcatxcore.com/chemical/>\\n\"\n",
    "# converted_ttls.append(\"@prefix maps: <http://pcatxcore.com/relation/maps/>\\n\")\n",
    "for key, value in master_tri.items():\n",
    "    converted_ttls = converted_ttls + \"triid:\" + key + \" \"\n",
    "    converted_ttls = converted_ttls + \"relation:has_facility\" + \" fac_name:\" + value['fac_name'] + \";\\n\"\n",
    "    converted_ttls = converted_ttls + \"    relation:maps\" + \" sic:\" + value['sic'] + \";\\n \"\n",
    "    converted_ttls = converted_ttls + \"    relation:maps\" + \" naics:\" + value['naics'] + \".\\n\""
   ]
  },
  {
   "cell_type": "code",
   "execution_count": null,
   "metadata": {},
   "outputs": [],
   "source": [
    "with open('data/tri.ttl', 'w') as handler:\n",
    "    handler.write(converted_ttls);"
   ]
  },
  {
   "cell_type": "code",
   "execution_count": null,
   "metadata": {},
   "outputs": [],
   "source": [
    "for key, value in master_tri.items():\n",
    "    print(value)"
   ]
  },
  {
   "cell_type": "code",
   "execution_count": null,
   "metadata": {},
   "outputs": [],
   "source": []
  }
 ],
 "metadata": {
  "kernelspec": {
   "display_name": "Python [conda env:pcatwd]",
   "language": "python",
   "name": "conda-env-pcatwd-py"
  },
  "language_info": {
   "codemirror_mode": {
    "name": "ipython",
    "version": 3
   },
   "file_extension": ".py",
   "mimetype": "text/x-python",
   "name": "python",
   "nbconvert_exporter": "python",
   "pygments_lexer": "ipython3",
   "version": "3.6.5"
  }
 },
 "nbformat": 4,
 "nbformat_minor": 2
}
